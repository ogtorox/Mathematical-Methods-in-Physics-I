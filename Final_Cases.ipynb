{
  "nbformat": 4,
  "nbformat_minor": 0,
  "metadata": {
    "colab": {
      "name": "Final_Cases",
      "provenance": [],
      "authorship_tag": "ABX9TyNlyVKtaXUTT9YEsvdpCfUD"
    },
    "kernelspec": {
      "name": "python3",
      "display_name": "Python 3"
    },
    "language_info": {
      "name": "python"
    }
  },
  "cells": [
    {
      "cell_type": "code",
      "metadata": {
        "colab": {
          "base_uri": "https://localhost:8080/"
        },
        "id": "ifh_t6yD9K1F",
        "outputId": "4a7f8cc4-5ae7-49f3-d418-360320aa21e0"
      },
      "source": [
        "## ACME CASE 1\n",
        "def solution(data, n):\n",
        "    return [d for d in data if data.count(d) <= n and len(data) < 100] \n",
        "    ## Using List comprehension\n",
        "    ## x for x = x|x in data if element repeats less than or equal to n times \n",
        "    ## and if the number of elements in data are 99 or less. \n",
        "\n",
        "c1 = solution([1,2,3], 0)\n",
        "c2 = solution([1, 2, 2, 3, 3, 3, 4, 5, 5], 1)\n",
        "c3 = solution([1,2,3], 6)\n",
        "\n",
        "## Test with random numbers to ensure that it is able to handle integers,\n",
        "## sort through the list and retain structure integrity\n",
        "import random\n",
        "list1 = [random.randint(1,100) for x in range(99)] \n",
        "c4 = solution(list1, 1)\n",
        "\n",
        "list2 = [random.randint(1,100) for x in range(101)] \n",
        "c5 = solution(list2, 1)\n",
        "\n",
        "print(\"These are the results for test cases 1, 2, and 3:\",c1, c2, c3)\n",
        "print(\"\")\n",
        "print(\"These are the results for an additional case to ensure integrity.\")\n",
        "print(\"Data before\",list1)\n",
        "print(\"Data after\", c4)\n",
        "print(\"\")\n",
        "print(\"These are the results for an additional case to ensure integrity over length of 100.\")\n",
        "print(\"Data before:\",list2)\n",
        "print(\"The length of the list:\", len(list2))\n",
        "print(\"Data after:\", c5)"
      ],
      "execution_count": null,
      "outputs": [
        {
          "output_type": "stream",
          "text": [
            "These are the results for test cases 1, 2, and 3: [] [1, 4] [1, 2, 3]\n",
            "\n",
            "These are the results for an additional case to ensure integrity.\n",
            "Data before [83, 83, 42, 12, 61, 34, 10, 14, 60, 18, 64, 77, 95, 14, 57, 64, 13, 89, 99, 51, 54, 52, 13, 29, 35, 23, 79, 99, 57, 19, 68, 15, 89, 54, 10, 74, 22, 47, 17, 38, 25, 19, 5, 89, 55, 57, 99, 57, 60, 99, 6, 97, 78, 74, 32, 1, 23, 16, 51, 67, 81, 66, 31, 82, 38, 67, 7, 56, 16, 85, 46, 55, 4, 77, 2, 30, 22, 45, 58, 42, 47, 74, 10, 71, 12, 88, 16, 72, 56, 85, 54, 11, 42, 21, 21, 52, 69, 58, 92]\n",
            "Data after [61, 34, 18, 95, 29, 35, 79, 68, 15, 17, 25, 5, 6, 97, 78, 32, 1, 81, 66, 31, 82, 7, 46, 4, 2, 30, 45, 71, 88, 72, 11, 69, 92]\n",
            "\n",
            "These are the results for an additional case to ensure integrity over length of 100.\n",
            "Data before: [54, 64, 68, 25, 78, 4, 2, 31, 8, 68, 96, 19, 88, 17, 18, 99, 94, 35, 33, 52, 86, 100, 96, 69, 30, 2, 88, 79, 2, 51, 71, 84, 64, 98, 5, 74, 8, 64, 12, 70, 37, 72, 80, 63, 69, 65, 94, 60, 70, 61, 55, 80, 76, 47, 88, 22, 94, 93, 91, 71, 16, 34, 74, 34, 91, 46, 40, 15, 81, 86, 91, 23, 18, 87, 49, 90, 37, 88, 24, 7, 34, 67, 9, 27, 55, 18, 15, 60, 22, 30, 79, 58, 71, 70, 58, 12, 37, 43, 43, 12, 28]\n",
            "The length of the list: 101\n",
            "Data after: []\n"
          ],
          "name": "stdout"
        }
      ]
    },
    {
      "cell_type": "code",
      "metadata": {
        "colab": {
          "base_uri": "https://localhost:8080/"
        },
        "id": "7Dfi6boYXlfz",
        "outputId": "36f1c569-052b-4cdd-f05e-30097fffd728"
      },
      "source": [
        "## ACME CASE 2\n",
        "\n",
        "from itertools import combinations as comb  ## Want comb as the order doesn't \n",
        "                                            ## matter and seeking all possible \n",
        "                                            ## combinations with length r in \n",
        "                                            ## the given set.\n",
        "\n",
        "def solution(L):\n",
        "  L.sort(reverse = True)                    ## gives the high-low order needed\n",
        "                                            ## as largest number has that order.  \n",
        "  for x in reversed(range(len(L)+1)):\n",
        "    for z in comb(L,x):\n",
        "      if sum(z)%3==0:                       ## z (permutation) is divisible by \n",
        "                                            ## 3 with no remainders.\n",
        "        return int(''.join(map(str,z)))     ## joining the string of integers \n",
        "                                            ## to read as xxx.\n",
        "  return 0                                  ## 0 will be returned is there is\n",
        "                                            ## no possible permutation divisble \n",
        "                                            ## by 3.\n",
        "\n",
        "print(solution(([3, 1, 4, 1])))\n",
        "print(solution([3, 1, 4, 1, 5, 9]))\n",
        "print(solution([8,7,0,2,5,4,3,9,1]))"
      ],
      "execution_count": null,
      "outputs": [
        {
          "output_type": "stream",
          "text": [
            "4311\n",
            "94311\n",
            "987543210\n"
          ],
          "name": "stdout"
        }
      ]
    },
    {
      "cell_type": "code",
      "metadata": {
        "id": "8mbldSeVZ7LE",
        "colab": {
          "base_uri": "https://localhost:8080/"
        },
        "outputId": "23a8cb4e-9e9a-44c1-95d6-01a52e67fd98"
      },
      "source": [
        "## This probelm should be tackled from the viewpoint of x,y coordinates as in,\n",
        "## moving from (x1, y1) to (x2, y2) with the least possible number of moves.\n",
        "## This is a list of all possible moved that can be made considering the limit\n",
        "## of moving in chess knight's moves:\n",
        "## (x+2, y+1)\n",
        "## (x+2, y-1)\n",
        "## (x-2, y+1)\n",
        "## (x-2, y-1)\n",
        "## (x+1, y+2)\n",
        "## (x+1, y-2)\n",
        "## (x-1, y+2)\n",
        "## (x-1, y-2)\n",
        "## This gives us 8 possibles ways you can get to a cubicle at any one movement\n",
        "## in time. There are limitation the the movement. Both x and y are bound as \n",
        "## such: (0 <= x < 8) and (0 <= 8 < y). It is neccessary to get the number, \n",
        "## i.e. 1 = (1,2), to read as a coordinate.\n",
        "\n",
        "## The first step is to convert the numbers into coordinates\n",
        "def coord(pos): ## convert numbered cubicles into coordinate pairs\n",
        "  x=(pos)//8 ## divide by 8 and discard remainder \n",
        "  y=(pos)%8 ## taking the abs value (modulus)\n",
        "  return(x,y)\n",
        "\n",
        "print(coord(4)) ## Test to see if code works\n",
        "print(coord(30))\n",
        "\n",
        "## Time to define all the possible moves as a functino. This can be done by \n",
        "## adding them to an array so that a list of all possible moves at any location\n",
        "## can be given as coordinates. There are 8 scenarios. This will be appended to \n",
        "## a list of all possible moves[apm] in (x,y).\n",
        "def apm(x,y):             ## Function for all possible moves\n",
        "\n",
        "  apm = []                ## List for all possible move choices\n",
        "  apm.append((x+2, y+1))\n",
        "  apm.append((x+2, y-1))\n",
        "  apm.append((x-2, y+1))\n",
        "  apm.append((x-2, y-1))\n",
        "  apm.append((x+1, y+1))\n",
        "  apm.append((x+1, y-1))\n",
        "  apm.append((x-1, y+1))\n",
        "  apm.append((x-1, y-1))\n",
        "\n",
        "  am = []                   ## List for all moves\n",
        "  for (x,y) in apm:         ## For loop defining the dimensions of the office\n",
        "      if 0<=x<8 and 0<=y<8:\n",
        "        am.append((x,y))    ## If the conditions are met, it's a possible move\n",
        "  return am                 ## and is added to the list\n",
        "\n",
        "print(apm(0,4)) ## Test to see if code works for cubicles 4 and 30\n",
        "print(apm(3,6))\n",
        "\n",
        "## Time is to write an algorithm that will process the best possible move at any\n",
        "## given point taking into consideration src and dest. It is known that if\n",
        "## src = dst, there are 0 possible moves. \n",
        "def solution(src, dest):\n",
        "  x1, y1 = coord(src)               ## starting point\n",
        "  x2, y2 = coord(dest)              ## ending point\n",
        "  pm = apm(x1, y1)                  ## all the possible moves for src\n",
        "  pml = []                          ## empty possible number of moves list\n",
        "  pnom = 0                          ## possible number of moves\n",
        "  while True:                       ## Using a forever loop\n",
        "    pnom += 1                       ## Adding 1 for every possible move location\n",
        "    for z in pm:                    ## Check available moves at current location\n",
        "      if z[0] == x2 and z[1] == y2: ## If one of the poss. moves fit the dest.,\n",
        "        return pnom                 ## the tot no. of moves req. is shown.\n",
        "      pml.extend(apm(z[0],z[1]))    ## If that if loop is not sastified, this\n",
        "    pm = pml                        ## 'extends' it to the next step in order to\n",
        "    pml = []                        ## continue finding the next best pnom.\n",
        "  if src == dest:\n",
        "    return 0                        ## src = dst, there are 0 possible moves\n",
        "\n",
        "print(solution(0,1))                ## Test 1\n",
        "print(solution(8,9))                ## Check for Test 1 (Same scenario)\n",
        "print(solution(19,36))              ## Test 2\n",
        "print(solution(35,52))              ## Check for Test 2"
      ],
      "execution_count": null,
      "outputs": [
        {
          "output_type": "stream",
          "text": [
            "(0, 4)\n",
            "(3, 6)\n",
            "[(2, 5), (2, 3), (1, 5), (1, 3)]\n",
            "[(5, 7), (5, 5), (1, 7), (1, 5), (4, 7), (4, 5), (2, 7), (2, 5)]\n",
            "3\n",
            "3\n",
            "1\n",
            "1\n"
          ],
          "name": "stdout"
        }
      ]
    }
  ]
}